{
 "cells": [
  {
   "cell_type": "code",
   "execution_count": 1,
   "id": "4a85ae58",
   "metadata": {},
   "outputs": [
    {
     "data": {
      "text/plain": [
       "True"
      ]
     },
     "execution_count": 1,
     "metadata": {},
     "output_type": "execute_result"
    }
   ],
   "source": [
    "import os\n",
    "import json\n",
    "from dotenv import load_dotenv\n",
    "load_dotenv()"
   ]
  },
  {
   "cell_type": "code",
   "execution_count": 2,
   "id": "0a31a393",
   "metadata": {},
   "outputs": [],
   "source": [
    "from openai import OpenAI\n",
    "\n",
    "client = OpenAI(\n",
    "    api_key=os.getenv(\"RUNPOD_TOKEN\"),\n",
    "    base_url=os.getenv(\"RUNPOD_CHATBOT_URL\"),\n",
    ")\n",
    "model_name = os.getenv(\"MODEL_NAME\")"
   ]
  },
  {
   "cell_type": "code",
   "execution_count": 3,
   "id": "7f73d386",
   "metadata": {},
   "outputs": [],
   "source": [
    "def get_chatbot_response(client, model_name, messages, temperature=0):  # FIXED\n",
    "    input_messages = []\n",
    "    for message in messages:\n",
    "        input_messages.append({\"role\": message[\"role\"], \"content\": message[\"content\"]})\n",
    "\n",
    "    response = client.chat.completions.create(\n",
    "        model=model_name,\n",
    "        messages=input_messages,\n",
    "        temperature=0.0,\n",
    "        max_tokens=2000,\n",
    "        top_p=0.8,\n",
    "    ).choices[0].message.content\n",
    "    return response"
   ]
  },
  {
   "cell_type": "code",
   "execution_count": 4,
   "id": "4c5ce06c",
   "metadata": {},
   "outputs": [],
   "source": [
    "import re\n",
    "\n",
    "def classify_query(query):\n",
    "    query = query.lower()\n",
    "    if \"instagram\" in query:\n",
    "        app = \"instagram\"\n",
    "    elif \"whatsapp\" in query:\n",
    "        app = \"whatsapp\"\n",
    "    else:\n",
    "        app = None\n",
    "\n",
    "    if \"notification\" in query:\n",
    "        metric = \"notifications\"\n",
    "    elif \"time\" in query and \"open\" in query:\n",
    "        metric = \"times_opened\"\n",
    "    elif \"usage\" in query or \"used\" in query:\n",
    "        metric = \"usage\"\n",
    "    else:\n",
    "        metric = None\n",
    "\n",
    "    return app, metric\n"
   ]
  },
  {
   "cell_type": "code",
   "execution_count": 5,
   "id": "f002e8a5",
   "metadata": {},
   "outputs": [],
   "source": [
    "import json\n",
    "\n",
    "def load_forecast_data(app, metric):\n",
    "    file_map = {\n",
    "        (\"instagram\", \"usage\"): \"instagram_usage_forecast_filtered.json\",\n",
    "        (\"instagram\", \"notifications\"): \"instagram_notifications_forecast_filtered.json\",\n",
    "        (\"instagram\", \"times_opened\"): \"instagram_times_opened_forecast_filtered.json\",\n",
    "        (\"whatsapp\", \"usage\"): \"whatsapp_usage_forecast_filtered.json\",\n",
    "        (\"whatsapp\", \"notifications\"): \"whatsapp_notifications_forecast_filtered.json\",\n",
    "        (\"whatsapp\", \"times_opened\"): \"whatsapp_times_opened_forecast_filtered.json\",\n",
    "    }\n",
    "    key = (app, metric)\n",
    "    if key not in file_map:\n",
    "        return None\n",
    "\n",
    "    path = os.path.join(\"json_data_filtered\", file_map[key])\n",
    "    with open(path, 'r') as f:\n",
    "        data = json.load(f)\n",
    "    return data"
   ]
  },
  {
   "cell_type": "code",
   "execution_count": 6,
   "id": "57804df1",
   "metadata": {},
   "outputs": [],
   "source": [
    "def format_forecast_summary(data, max_days=5):\n",
    "    context = []\n",
    "    for entry in data[-max_days:]:\n",
    "        date = entry[\"ds\"]\n",
    "        trend = round(entry[\"trend\"], 2)\n",
    "        pred = round(entry[\"yhat\"], 2)\n",
    "        context.append(f\"On {date}, predicted value is {pred} with trend {trend}.\")\n",
    "    return \"\\n\".join(context)"
   ]
  },
  {
   "cell_type": "code",
   "execution_count": 16,
   "id": "c7b714a8",
   "metadata": {},
   "outputs": [],
   "source": [
    "def answer_user_query(query):\n",
    "    app, metric = classify_query(query)\n",
    "    if not app or not metric:\n",
    "        return \"Sorry, I couldn't detect which app or metric you're referring to.\"\n",
    "\n",
    "    data = load_forecast_data(app, metric)\n",
    "    if not data:\n",
    "        return f\"No data found for {app} - {metric}.\"\n",
    "\n",
    "    context = format_forecast_summary(data)\n",
    "\n",
    "    prompt = (\n",
    "        f\"You're an assistant analyzing forecasted mobile app usage.\\n\"\n",
    "        f\"Treat the current date as **2022-09-21**, and note that the forecast extends up to **2022-10-21**.\\n\\n\"\n",
    "        f\"If the user asks for data of any particular data of past or future check the files and then give it to him if it exists\"\n",
    "        f\"App: {app.capitalize()}\\nMetric: {metric.replace('_', ' ').capitalize()}\\n\"\n",
    "        f\"Here is the forecast summary for recent days:\\n\"\n",
    "        f\"{context}\\n\\n\"\n",
    "        f\"User Question: {query}\\n\"\n",
    "        f\"Answer the user's question in natural language, with reasoning if needed.\"\n",
    "    )\n",
    "\n",
    "#     prompt = (\n",
    "#     f\"You're an assistant analyzing forecasted mobile app usage behavior.\\n\\n\"\n",
    "#     f\"The forecast data is for the mobile app: **{app.capitalize()}**, and the metric: **{metric.replace('_', ' ').capitalize()}**.\\n\"\n",
    "#     f\"You are given historical trends and forecasted values between past and future dates.\\n\"\n",
    "#     f\"Treat the current date as **2022-09-21**, and note that the forecast extends up to **2022-10-21**.\\n\\n\"\n",
    "#     f\"Here is the forecast summary for recent days:\\n\"\n",
    "#     f\"{context}\\n\\n\"\n",
    "#     f\"User Question: {query}\\n\\n\"\n",
    "#     f\"Based on the forecasted trends, provide a helpful, natural language answer with reasoning if needed. \"\n",
    "#     f\"Summarize patterns, highlight expected increases or decreases, and be clear about what the data shows.\"\n",
    "# )\n",
    "\n",
    "\n",
    "    messages = [  # FIXED\n",
    "        {'role': 'system', 'content': prompt},\n",
    "        {'role': 'user', 'content': query}\n",
    "    ]\n",
    "\n",
    "    return get_chatbot_response(client, model_name, messages)"
   ]
  },
  {
   "cell_type": "code",
   "execution_count": 8,
   "id": "7e43ab49",
   "metadata": {},
   "outputs": [
    {
     "name": "stdout",
     "output_type": "stream",
     "text": [
      "Based on the forecasted values, it appears that your WhatsApp usage is trending upwards. The trend values for each day are increasing, indicating a steady growth in usage.\n",
      "\n",
      "To estimate the increase in usage this week, let's look at the trend values. The trend value for the first day (2022-10-17) is 137.96, and the trend value for the last day (2022-10-21) is 142.58. This represents an increase of 4.62 (142.58 - 137.96) over the course of 4 days.\n",
      "\n",
      "To calculate the expected increase in usage this week, we can multiply this daily increase by 7 (the number of days in a week): 4.62 * 7 = 32.34.\n",
      "\n",
      "So, based on this analysis, your WhatsApp usage is expected to increase by approximately 32.34 units this week.\n"
     ]
    }
   ],
   "source": [
    "print(answer_user_query(\"How much is my WhatsApp usage expected to increase this week?\"))"
   ]
  },
  {
   "cell_type": "code",
   "execution_count": 9,
   "id": "341f5086",
   "metadata": {},
   "outputs": [
    {
     "name": "stdout",
     "output_type": "stream",
     "text": [
      "Based on the forecasted data, it doesn't seem like there's a clear pattern of increased notifications on weekends. In fact, the trend is generally downward, indicating a decrease in notifications over the days.\n",
      "\n",
      "On 2022-10-17, the predicted value is -15.4, which is a significant decrease. The trend for this day is -9.13, which is also negative.\n",
      "\n",
      "On 2022-10-18, the predicted value is -9.37, which is still a decrease. The trend for this day is -10.09, which is also negative.\n",
      "\n",
      "On 2022-10-19, the predicted value is -19.12, which is an even larger decrease. The trend for this day is -11.04, which is also negative.\n",
      "\n",
      "On 2022-10-20, the predicted value is -11.28, which is still a decrease. The trend for this day is -11.99, which is also negative.\n",
      "\n",
      "On 2022-10-21, the predicted value is 1.49, which is a small increase. However, the trend for this day is -12.94, which is still negative.\n",
      "\n",
      "There doesn't seem to be a clear pattern of increased notifications on weekends, as the trend is generally downward. It's possible that the decrease in notifications is due to other factors, such as changes in user behavior or app updates.\n"
     ]
    }
   ],
   "source": [
    "print(answer_user_query(\"Do I get more Instagram notifications on weekends?\"))"
   ]
  },
  {
   "cell_type": "code",
   "execution_count": 18,
   "id": "973b81e5",
   "metadata": {},
   "outputs": [
    {
     "name": "stdout",
     "output_type": "stream",
     "text": [
      "According to the forecast summary, the predicted value for notifications on WhatsApp on 2022-10-20 is 220.15. This is the forecasted number of notifications you would have received on that day.\n"
     ]
    }
   ],
   "source": [
    "\n",
    "print(answer_user_query(\"How many notifications on WhatsApp did i receive 2022-10-20\"))"
   ]
  },
  {
   "cell_type": "code",
   "execution_count": null,
   "id": "4b07a275",
   "metadata": {},
   "outputs": [],
   "source": []
  }
 ],
 "metadata": {
  "kernelspec": {
   "display_name": "env10",
   "language": "python",
   "name": "python3"
  },
  "language_info": {
   "codemirror_mode": {
    "name": "ipython",
    "version": 3
   },
   "file_extension": ".py",
   "mimetype": "text/x-python",
   "name": "python",
   "nbconvert_exporter": "python",
   "pygments_lexer": "ipython3",
   "version": "3.12.10"
  }
 },
 "nbformat": 4,
 "nbformat_minor": 5
}
