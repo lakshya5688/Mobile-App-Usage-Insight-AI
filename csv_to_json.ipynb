{
 "cells": [
  {
   "cell_type": "code",
   "execution_count": 3,
   "id": "205c74a4",
   "metadata": {},
   "outputs": [],
   "source": [
    "import csv\n",
    "import json\n",
    "import os"
   ]
  },
  {
   "cell_type": "code",
   "execution_count": 4,
   "id": "65c68add",
   "metadata": {},
   "outputs": [],
   "source": [
    "def csvtojson(csv_file_path, json_file_path):\n",
    "    data = []\n",
    "    with open(csv_file_path, 'r', newline='', encoding='utf-8') as csv_file:\n",
    "        csv_reader = csv.DictReader(csv_file)\n",
    "        for row in csv_reader:\n",
    "            data.append(row)\n",
    "\n",
    "    with open(json_file_path, 'w', encoding='utf-8') as json_file:\n",
    "        json.dump(data, json_file, indent=4)\n",
    "\n",
    "os.makedirs(\"json_data\", exist_ok=True)"
   ]
  },
  {
   "cell_type": "code",
   "execution_count": 5,
   "id": "bdbcce97",
   "metadata": {},
   "outputs": [
    {
     "name": "stdout",
     "output_type": "stream",
     "text": [
      "Converted instagram_notifications_forecast.csv to instagram_notifications_forecast.json\n",
      "Converted instagram_times_opened_forecast.csv to instagram_times_opened_forecast.json\n",
      "Converted instagram_usage_forecast.csv to instagram_usage_forecast.json\n",
      "Converted model_summary.csv to model_summary.json\n",
      "Converted total_notifications_forecast.csv to total_notifications_forecast.json\n",
      "Converted total_times_opened_forecast.csv to total_times_opened_forecast.json\n",
      "Converted total_usage_forecast.csv to total_usage_forecast.json\n",
      "Converted whatsapp_notifications_forecast.csv to whatsapp_notifications_forecast.json\n",
      "Converted whatsapp_times_opened_forecast.csv to whatsapp_times_opened_forecast.json\n",
      "Converted whatsapp_usage_forecast.csv to whatsapp_usage_forecast.json\n"
     ]
    }
   ],
   "source": [
    "forecast_folder = \"forecasts\"\n",
    "for filename in os.listdir(forecast_folder):\n",
    "    if filename.endswith(\".csv\"):\n",
    "        csv_path = os.path.join(forecast_folder, filename)\n",
    "        json_filename = os.path.splitext(filename)[0] + \".json\"\n",
    "        json_path = os.path.join(\"json_data\", json_filename)\n",
    "        csvtojson(csv_path, json_path)\n",
    "        print(f\"Converted {filename} to {json_filename}\")"
   ]
  },
  {
   "cell_type": "code",
   "execution_count": null,
   "id": "d8a7887a",
   "metadata": {},
   "outputs": [],
   "source": []
  }
 ],
 "metadata": {
  "kernelspec": {
   "display_name": "base",
   "language": "python",
   "name": "python3"
  },
  "language_info": {
   "codemirror_mode": {
    "name": "ipython",
    "version": 3
   },
   "file_extension": ".py",
   "mimetype": "text/x-python",
   "name": "python",
   "nbconvert_exporter": "python",
   "pygments_lexer": "ipython3",
   "version": "3.12.7"
  }
 },
 "nbformat": 4,
 "nbformat_minor": 5
}
