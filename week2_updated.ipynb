{
 "cells": [
  {
   "cell_type": "code",
   "execution_count": 2,
   "id": "1552098d",
   "metadata": {},
   "outputs": [],
   "source": [
    "import pandas as pd\n",
    "import numpy as np\n",
    "import matplotlib.pyplot as plt\n",
    "from prophet import Prophet\n",
    "from sklearn.metrics import mean_absolute_error, mean_squared_error\n",
    "import joblib\n",
    "import os\n",
    "import warnings\n",
    "warnings.filterwarnings(\"ignore\")\n",
    "\n",
    "# Create output folders\n",
    "os.makedirs(\"temp\", exist_ok=True)\n",
    "os.makedirs(\"forecasts\", exist_ok=True)\n"
   ]
  },
  {
   "cell_type": "code",
   "execution_count": 4,
   "id": "7fd051a7",
   "metadata": {},
   "outputs": [
    {
     "data": {
      "text/html": [
       "<div>\n",
       "<style scoped>\n",
       "    .dataframe tbody tr th:only-of-type {\n",
       "        vertical-align: middle;\n",
       "    }\n",
       "\n",
       "    .dataframe tbody tr th {\n",
       "        vertical-align: top;\n",
       "    }\n",
       "\n",
       "    .dataframe thead th {\n",
       "        text-align: right;\n",
       "    }\n",
       "</style>\n",
       "<table border=\"1\" class=\"dataframe\">\n",
       "  <thead>\n",
       "    <tr style=\"text-align: right;\">\n",
       "      <th></th>\n",
       "      <th>Date</th>\n",
       "      <th>Usage</th>\n",
       "      <th>Notifications</th>\n",
       "      <th>Times opened</th>\n",
       "      <th>App</th>\n",
       "    </tr>\n",
       "  </thead>\n",
       "  <tbody>\n",
       "    <tr>\n",
       "      <th>0</th>\n",
       "      <td>2022-08-26</td>\n",
       "      <td>38</td>\n",
       "      <td>70</td>\n",
       "      <td>49</td>\n",
       "      <td>Instagram</td>\n",
       "    </tr>\n",
       "    <tr>\n",
       "      <th>1</th>\n",
       "      <td>2022-08-27</td>\n",
       "      <td>39</td>\n",
       "      <td>43</td>\n",
       "      <td>48</td>\n",
       "      <td>Instagram</td>\n",
       "    </tr>\n",
       "    <tr>\n",
       "      <th>2</th>\n",
       "      <td>2022-08-28</td>\n",
       "      <td>64</td>\n",
       "      <td>231</td>\n",
       "      <td>55</td>\n",
       "      <td>Instagram</td>\n",
       "    </tr>\n",
       "    <tr>\n",
       "      <th>3</th>\n",
       "      <td>2022-08-29</td>\n",
       "      <td>14</td>\n",
       "      <td>35</td>\n",
       "      <td>23</td>\n",
       "      <td>Instagram</td>\n",
       "    </tr>\n",
       "    <tr>\n",
       "      <th>4</th>\n",
       "      <td>2022-08-30</td>\n",
       "      <td>3</td>\n",
       "      <td>19</td>\n",
       "      <td>5</td>\n",
       "      <td>Instagram</td>\n",
       "    </tr>\n",
       "  </tbody>\n",
       "</table>\n",
       "</div>"
      ],
      "text/plain": [
       "        Date  Usage  Notifications  Times opened        App\n",
       "0 2022-08-26     38             70            49  Instagram\n",
       "1 2022-08-27     39             43            48  Instagram\n",
       "2 2022-08-28     64            231            55  Instagram\n",
       "3 2022-08-29     14             35            23  Instagram\n",
       "4 2022-08-30      3             19             5  Instagram"
      ]
     },
     "execution_count": 4,
     "metadata": {},
     "output_type": "execute_result"
    }
   ],
   "source": [
    "df = pd.read_csv(\"Screentime - App Details.csv\")\n",
    "\n",
    "df['Date'] = pd.to_datetime(df['Date'])\n",
    "\n",
    "df['App'] = df['App'].fillna('Unknown')\n",
    "\n",
    "df[['Usage', 'Notifications', 'Times opened']] = df[['Usage', 'Notifications', 'Times opened']].fillna(0)\n",
    "\n",
    "df.head()\n"
   ]
  },
  {
   "cell_type": "code",
   "execution_count": 9,
   "id": "55a9076e",
   "metadata": {},
   "outputs": [],
   "source": [
    "def remove_outliers_iqr(data):\n",
    "    Q1 = data.quantile(0.25)\n",
    "    Q3 = data.quantile(0.75)\n",
    "    IQR = Q3 - Q1\n",
    "    return data[~((data < (Q1 - 1.5 * IQR)) | (data > (Q3 + 1.5 * IQR)))]\n",
    "\n",
    "# Function to remove outliers per group\n",
    "def clean_group(df, app, metric):\n",
    "    sub_df = df[df['App'] == app][['Date', metric]]\n",
    "    sub_df = sub_df.groupby('Date').sum().reset_index()\n",
    "    sub_df = sub_df.rename(columns={'Date': 'ds', metric: 'y'})\n",
    "    sub_df['y'] = remove_outliers_iqr(sub_df['y'])\n",
    "    sub_df = sub_df.dropna()\n",
    "    return sub_df\n"
   ]
  },
  {
   "cell_type": "code",
   "execution_count": 10,
   "id": "8625e948",
   "metadata": {},
   "outputs": [],
   "source": [
    "def train_and_save_prophet(app, metric_col, model_id):\n",
    "    df_cleaned = clean_group(df, app, metric_col)\n",
    "    if df_cleaned.shape[0] < 10:\n",
    "        print(f\"⚠️ Skipping {app} - {metric_col}: Not enough data after cleaning.\")\n",
    "        return None\n",
    "\n",
    "    # Train Prophet model\n",
    "    model = Prophet()\n",
    "    model.fit(df_cleaned)\n",
    "\n",
    "    # Forecast next 30 days\n",
    "    future = model.make_future_dataframe(periods=30)\n",
    "    forecast = model.predict(future)\n",
    "\n",
    "    # Save model and forecast\n",
    "    model_path = f\"temp/model_{model_id}.pkl\"\n",
    "    forecast_path = f\"forecasts/{model_id}_forecast.csv\"\n",
    "    joblib.dump(model, model_path)\n",
    "    forecast.to_csv(forecast_path, index=False)\n",
    "\n",
    "    # Accuracy on training data\n",
    "    y_true = df_cleaned['y']\n",
    "    y_pred = model.predict(df_cleaned)['yhat']\n",
    "    mae = mean_absolute_error(y_true, y_pred)\n",
    "    rmse = mean_squared_error(y_true, y_pred, squared=False)\n",
    "\n",
    "    print(f\"✅ Trained {model_id} | MAE: {mae:.2f}, RMSE: {rmse:.2f}\")\n",
    "    return {\n",
    "        'App': app,\n",
    "        'Metric': metric_col.replace(' (minutes)', '').replace(' ', '_'),\n",
    "        'MAE': round(mae, 2),\n",
    "        'RMSE': round(rmse, 2),\n",
    "        'Model': os.path.basename(model_path),\n",
    "        'Forecast File': os.path.basename(forecast_path)\n",
    "    }\n"
   ]
  },
  {
   "cell_type": "code",
   "execution_count": 11,
   "id": "484c2e19",
   "metadata": {},
   "outputs": [
    {
     "name": "stderr",
     "output_type": "stream",
     "text": [
      "04:08:40 - cmdstanpy - INFO - Chain [1] start processing\n",
      "04:08:41 - cmdstanpy - INFO - Chain [1] done processing\n",
      "04:08:41 - cmdstanpy - INFO - Chain [1] start processing\n"
     ]
    },
    {
     "name": "stdout",
     "output_type": "stream",
     "text": [
      "✅ Trained instagram_usage | MAE: 14.15, RMSE: 18.18\n"
     ]
    },
    {
     "name": "stderr",
     "output_type": "stream",
     "text": [
      "04:08:41 - cmdstanpy - INFO - Chain [1] done processing\n",
      "04:08:41 - cmdstanpy - INFO - Chain [1] start processing\n"
     ]
    },
    {
     "name": "stdout",
     "output_type": "stream",
     "text": [
      "✅ Trained instagram_notifications | MAE: 11.65, RMSE: 15.37\n"
     ]
    },
    {
     "name": "stderr",
     "output_type": "stream",
     "text": [
      "04:08:42 - cmdstanpy - INFO - Chain [1] done processing\n",
      "04:08:42 - cmdstanpy - INFO - Chain [1] start processing\n"
     ]
    },
    {
     "name": "stdout",
     "output_type": "stream",
     "text": [
      "✅ Trained instagram_times_opened | MAE: 18.80, RMSE: 24.47\n"
     ]
    },
    {
     "name": "stderr",
     "output_type": "stream",
     "text": [
      "04:08:42 - cmdstanpy - INFO - Chain [1] done processing\n",
      "04:08:42 - cmdstanpy - INFO - Chain [1] start processing\n"
     ]
    },
    {
     "name": "stdout",
     "output_type": "stream",
     "text": [
      "✅ Trained whatsapp_usage | MAE: 37.76, RMSE: 48.28\n"
     ]
    },
    {
     "name": "stderr",
     "output_type": "stream",
     "text": [
      "04:08:42 - cmdstanpy - INFO - Chain [1] done processing\n",
      "04:08:43 - cmdstanpy - INFO - Chain [1] start processing\n"
     ]
    },
    {
     "name": "stdout",
     "output_type": "stream",
     "text": [
      "✅ Trained whatsapp_notifications | MAE: 31.72, RMSE: 37.43\n"
     ]
    },
    {
     "name": "stderr",
     "output_type": "stream",
     "text": [
      "04:08:43 - cmdstanpy - INFO - Chain [1] done processing\n"
     ]
    },
    {
     "name": "stdout",
     "output_type": "stream",
     "text": [
      "✅ Trained whatsapp_times_opened | MAE: 14.99, RMSE: 18.64\n",
      "⚠️ Skipping Total - Usage: Not enough data after cleaning.\n",
      "⚠️ Skipping Total - Notifications: Not enough data after cleaning.\n",
      "⚠️ Skipping Total - Times opened: Not enough data after cleaning.\n"
     ]
    }
   ],
   "source": [
    "apps = ['Instagram', 'Whatsapp']\n",
    "metrics = ['Usage', 'Notifications', 'Times opened']\n",
    "\n",
    "results = []\n",
    "\n",
    "# Individual app models\n",
    "for app in apps:\n",
    "    for metric in metrics:\n",
    "        model_id = f\"{app.lower()}_{metric.lower().replace(' ', '_').replace('(', '').replace(')', '')}\"\n",
    "        result = train_and_save_prophet(app, metric, model_id)\n",
    "        if result:\n",
    "            results.append(result)\n",
    "\n",
    "# Total (all apps combined)\n",
    "df_total = df.copy()\n",
    "df_total['App'] = 'Total'\n",
    "for metric in metrics:\n",
    "    model_id = f\"total_{metric.lower().replace(' ', '_').replace('(', '').replace(')', '')}\"\n",
    "    result = train_and_save_prophet('Total', metric, model_id)\n",
    "    if result:\n",
    "        results.append(result)\n"
   ]
  },
  {
   "cell_type": "code",
   "execution_count": 12,
   "id": "928d9f7d",
   "metadata": {},
   "outputs": [
    {
     "data": {
      "text/html": [
       "<div>\n",
       "<style scoped>\n",
       "    .dataframe tbody tr th:only-of-type {\n",
       "        vertical-align: middle;\n",
       "    }\n",
       "\n",
       "    .dataframe tbody tr th {\n",
       "        vertical-align: top;\n",
       "    }\n",
       "\n",
       "    .dataframe thead th {\n",
       "        text-align: right;\n",
       "    }\n",
       "</style>\n",
       "<table border=\"1\" class=\"dataframe\">\n",
       "  <thead>\n",
       "    <tr style=\"text-align: right;\">\n",
       "      <th></th>\n",
       "      <th>App</th>\n",
       "      <th>Metric</th>\n",
       "      <th>MAE</th>\n",
       "      <th>RMSE</th>\n",
       "      <th>Model</th>\n",
       "      <th>Forecast File</th>\n",
       "    </tr>\n",
       "  </thead>\n",
       "  <tbody>\n",
       "    <tr>\n",
       "      <th>0</th>\n",
       "      <td>Instagram</td>\n",
       "      <td>Usage</td>\n",
       "      <td>14.15</td>\n",
       "      <td>18.18</td>\n",
       "      <td>model_instagram_usage.pkl</td>\n",
       "      <td>instagram_usage_forecast.csv</td>\n",
       "    </tr>\n",
       "    <tr>\n",
       "      <th>1</th>\n",
       "      <td>Instagram</td>\n",
       "      <td>Notifications</td>\n",
       "      <td>11.65</td>\n",
       "      <td>15.37</td>\n",
       "      <td>model_instagram_notifications.pkl</td>\n",
       "      <td>instagram_notifications_forecast.csv</td>\n",
       "    </tr>\n",
       "    <tr>\n",
       "      <th>2</th>\n",
       "      <td>Instagram</td>\n",
       "      <td>Times_opened</td>\n",
       "      <td>18.80</td>\n",
       "      <td>24.47</td>\n",
       "      <td>model_instagram_times_opened.pkl</td>\n",
       "      <td>instagram_times_opened_forecast.csv</td>\n",
       "    </tr>\n",
       "    <tr>\n",
       "      <th>3</th>\n",
       "      <td>Whatsapp</td>\n",
       "      <td>Usage</td>\n",
       "      <td>37.76</td>\n",
       "      <td>48.28</td>\n",
       "      <td>model_whatsapp_usage.pkl</td>\n",
       "      <td>whatsapp_usage_forecast.csv</td>\n",
       "    </tr>\n",
       "    <tr>\n",
       "      <th>4</th>\n",
       "      <td>Whatsapp</td>\n",
       "      <td>Notifications</td>\n",
       "      <td>31.72</td>\n",
       "      <td>37.43</td>\n",
       "      <td>model_whatsapp_notifications.pkl</td>\n",
       "      <td>whatsapp_notifications_forecast.csv</td>\n",
       "    </tr>\n",
       "    <tr>\n",
       "      <th>5</th>\n",
       "      <td>Whatsapp</td>\n",
       "      <td>Times_opened</td>\n",
       "      <td>14.99</td>\n",
       "      <td>18.64</td>\n",
       "      <td>model_whatsapp_times_opened.pkl</td>\n",
       "      <td>whatsapp_times_opened_forecast.csv</td>\n",
       "    </tr>\n",
       "  </tbody>\n",
       "</table>\n",
       "</div>"
      ],
      "text/plain": [
       "         App         Metric    MAE   RMSE                              Model  \\\n",
       "0  Instagram          Usage  14.15  18.18          model_instagram_usage.pkl   \n",
       "1  Instagram  Notifications  11.65  15.37  model_instagram_notifications.pkl   \n",
       "2  Instagram   Times_opened  18.80  24.47   model_instagram_times_opened.pkl   \n",
       "3   Whatsapp          Usage  37.76  48.28           model_whatsapp_usage.pkl   \n",
       "4   Whatsapp  Notifications  31.72  37.43   model_whatsapp_notifications.pkl   \n",
       "5   Whatsapp   Times_opened  14.99  18.64    model_whatsapp_times_opened.pkl   \n",
       "\n",
       "                          Forecast File  \n",
       "0          instagram_usage_forecast.csv  \n",
       "1  instagram_notifications_forecast.csv  \n",
       "2   instagram_times_opened_forecast.csv  \n",
       "3           whatsapp_usage_forecast.csv  \n",
       "4   whatsapp_notifications_forecast.csv  \n",
       "5    whatsapp_times_opened_forecast.csv  "
      ]
     },
     "execution_count": 12,
     "metadata": {},
     "output_type": "execute_result"
    }
   ],
   "source": [
    "summary_df = pd.DataFrame(results)\n",
    "summary_df.to_csv(\"forecasts/model_summary.csv\", index=False)\n",
    "summary_df\n"
   ]
  },
  {
   "cell_type": "code",
   "execution_count": 13,
   "id": "17faed7d",
   "metadata": {},
   "outputs": [],
   "source": [
    "def train_and_save_total(metric_col, model_id):\n",
    "    sub_df = df_total[['Date', metric_col]].rename(columns={'Date': 'ds', metric_col: 'y'})\n",
    "    sub_df['y'] = remove_outliers_iqr(sub_df['y'])\n",
    "    sub_df = sub_df.dropna()\n",
    "    \n",
    "    if sub_df.shape[0] < 10:\n",
    "        print(f\"⚠️ Skipping Total - {metric_col}: Not enough data after cleaning.\")\n",
    "        return None\n",
    "\n",
    "    model = Prophet()\n",
    "    model.fit(sub_df)\n",
    "\n",
    "    future = model.make_future_dataframe(periods=30)\n",
    "    forecast = model.predict(future)\n",
    "\n",
    "    model_path = f\"temp/model_total_{metric_col.lower().replace(' ', '_')}.pkl\"\n",
    "    forecast_path = f\"forecasts/total_{metric_col.lower().replace(' ', '_')}_forecast.csv\"\n",
    "    joblib.dump(model, model_path)\n",
    "    forecast.to_csv(forecast_path, index=False)\n",
    "\n",
    "    y_true = sub_df['y']\n",
    "    y_pred = model.predict(sub_df)['yhat']\n",
    "    mae = mean_absolute_error(y_true, y_pred)\n",
    "    rmse = mean_squared_error(y_true, y_pred, squared=False)\n",
    "\n",
    "    print(f\"Trained Total - {metric_col} | MAE: {mae:.2f}, RMSE: {rmse:.2f}\")\n",
    "    return {\n",
    "        'App': 'Total',\n",
    "        'Metric': metric_col.replace(' (minutes)', '').replace(' ', '_'),\n",
    "        'MAE': round(mae, 2),\n",
    "        'RMSE': round(rmse, 2),\n",
    "        'Model': os.path.basename(model_path),\n",
    "        'Forecast File': os.path.basename(forecast_path)\n",
    "    }\n"
   ]
  },
  {
   "cell_type": "code",
   "execution_count": 14,
   "id": "d6da7423",
   "metadata": {},
   "outputs": [
    {
     "name": "stderr",
     "output_type": "stream",
     "text": [
      "04:13:58 - cmdstanpy - INFO - Chain [1] start processing\n",
      "04:13:58 - cmdstanpy - INFO - Chain [1] done processing\n",
      "04:13:59 - cmdstanpy - INFO - Chain [1] start processing\n"
     ]
    },
    {
     "name": "stdout",
     "output_type": "stream",
     "text": [
      "Trained Total - Usage | MAE: 45.35, RMSE: 53.73\n"
     ]
    },
    {
     "name": "stderr",
     "output_type": "stream",
     "text": [
      "04:13:59 - cmdstanpy - INFO - Chain [1] done processing\n",
      "04:13:59 - cmdstanpy - INFO - Chain [1] start processing\n"
     ]
    },
    {
     "name": "stdout",
     "output_type": "stream",
     "text": [
      "Trained Total - Notifications | MAE: 86.01, RMSE: 99.31\n"
     ]
    },
    {
     "name": "stderr",
     "output_type": "stream",
     "text": [
      "04:13:59 - cmdstanpy - INFO - Chain [1] done processing\n"
     ]
    },
    {
     "name": "stdout",
     "output_type": "stream",
     "text": [
      "Trained Total - Times opened | MAE: 34.90, RMSE: 42.21\n"
     ]
    }
   ],
   "source": [
    "# Total (all apps combined)\n",
    "for metric in metrics:\n",
    "    result = train_and_save_total(metric, metric.lower().replace(' ', '_').replace('(', '').replace(')', ''))\n",
    "    if result:\n",
    "        results.append(result)\n"
   ]
  },
  {
   "cell_type": "code",
   "execution_count": null,
   "id": "f4f27d8f",
   "metadata": {},
   "outputs": [],
   "source": []
  }
 ],
 "metadata": {
  "kernelspec": {
   "display_name": "base",
   "language": "python",
   "name": "python3"
  },
  "language_info": {
   "codemirror_mode": {
    "name": "ipython",
    "version": 3
   },
   "file_extension": ".py",
   "mimetype": "text/x-python",
   "name": "python",
   "nbconvert_exporter": "python",
   "pygments_lexer": "ipython3",
   "version": "3.12.7"
  }
 },
 "nbformat": 4,
 "nbformat_minor": 5
}
